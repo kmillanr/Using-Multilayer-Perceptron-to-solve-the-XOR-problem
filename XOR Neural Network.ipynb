{
 "cells": [
  {
   "cell_type": "markdown",
   "metadata": {},
   "source": [
    "## Generating Data (Including Bias = 1)"
   ]
  },
  {
   "cell_type": "code",
   "execution_count": 131,
   "metadata": {},
   "outputs": [
    {
     "data": {
      "text/plain": [
       "((4, 3), (4, 1))"
      ]
     },
     "execution_count": 131,
     "metadata": {},
     "output_type": "execute_result"
    }
   ],
   "source": [
    "import numpy as np\n",
    "import random\n",
    "import matplotlib.pyplot as plt\n",
    "random.seed(123)\n",
    "\n",
    "x = np.array([[0,0,1],\n",
    "            [0,1,1],\n",
    "            [1,0,1],\n",
    "            [1,1,1]])\n",
    "                \n",
    "y = np.array([[0],\n",
    "            [1],\n",
    "            [1],\n",
    "            [0]])\n",
    "x.shape, y.shape"
   ]
  },
  {
   "cell_type": "markdown",
   "metadata": {},
   "source": [
    "## Building Model"
   ]
  },
  {
   "cell_type": "code",
   "execution_count": 148,
   "metadata": {},
   "outputs": [
    {
     "data": {
      "text/plain": [
       "((3, 4), (4, 1))"
      ]
     },
     "execution_count": 148,
     "metadata": {},
     "output_type": "execute_result"
    }
   ],
   "source": [
    "#Number of epochs\n",
    "num_epochs = 1000\n",
    "\n",
    "#initialize weights\n",
    "w0 = 2*np.random.random((3,4)) - 1\n",
    "w1 = 2*np.random.random((4,1)) - 1\n",
    "w0.shape,w1.shape"
   ]
  },
  {
   "cell_type": "markdown",
   "metadata": {},
   "source": [
    "## Activation Function (Sigmoid)"
   ]
  },
  {
   "cell_type": "code",
   "execution_count": 149,
   "metadata": {
    "collapsed": true
   },
   "outputs": [],
   "source": [
    "def sig(x,deriv=False):\n",
    "    if(deriv==True):\n",
    "        return x*(1-x)\n",
    "\n",
    "    return 1/(1+np.exp(-x))"
   ]
  },
  {
   "cell_type": "markdown",
   "metadata": {},
   "source": [
    "## Train Model"
   ]
  },
  {
   "cell_type": "code",
   "execution_count": 156,
   "metadata": {},
   "outputs": [
    {
     "name": "stdout",
     "output_type": "stream",
     "text": [
      "Error:0.25336774894029646\n",
      "Error:0.25336774894029646\n",
      "Error:0.25336774894029646\n",
      "Error:0.25336774894029646\n"
     ]
    },
    {
     "data": {
      "text/plain": [
       "((4, 1), (4, 1), (4, 1), (4, 1))"
      ]
     },
     "execution_count": 156,
     "metadata": {},
     "output_type": "execute_result"
    }
   ],
   "source": [
    "learning_rate_list = [0.001,0.003,0.006,0.01]\n",
    "\n",
    "error_matrix1 = []\n",
    "error_matrix2 = []\n",
    "error_matrix3 = []\n",
    "error_matrix4 = []\n",
    "    \n",
    "# def xor(learning_rate, x, y, num_epochs, w0, w1):\n",
    "for i in learning_rate_list:\n",
    "    for j in range(num_epochs):\n",
    "        #feed forward through layers 0,1, and 2\n",
    "        k0 = x\n",
    "        k1 = sig(np.dot(k0, w0))\n",
    "        k2 = sig(np.dot(k1, w1))\n",
    "\n",
    "        #how much did we miss the target value?\n",
    "        k2_error = (y - k2)\n",
    "\n",
    "        if i == 0.001:\n",
    "            error_matrix1.append(np.mean(np.square(k2_error)))\n",
    "        elif i == 0.003:\n",
    "            error_matrix2.append(np.mean(np.square(k2_error)))\n",
    "        elif i == 0.006:\n",
    "            error_matrix3.append(np.mean(np.square(k2_error)))        \n",
    "        elif i == 0.01:\n",
    "            error_matrix4.append(np.mean(np.square(k2_error)))\n",
    "\n",
    "\n",
    "        if (j% 10000) == 0:\n",
    "            print (\"Error:\" + str(np.mean(np.square(k2_error))))\n",
    "\n",
    "        #in what direction is the target value?\n",
    "        k2_delta = k2_error*sig(k2, deriv=True)\n",
    "\n",
    "        #how much did each k1 value contribute to k2 error\n",
    "        k1_error = k2_delta.dot(w1.T)\n",
    "\n",
    "        k1_delta= k1_error * sig(k1,deriv=True)\n",
    "\n",
    "        if j >= num_epochs-1:\n",
    "            w0 = 2*np.random.random((3,4)) - 1\n",
    "            w1 = 2*np.random.random((4,1)) - 1\n",
    "\n",
    "        else:\n",
    "            w1 += i*(k1.T.dot(k2_delta))\n",
    "            w0 += i*(k0.T.dot(k1_delta))\n",
    "\n",
    "    print(\"Output for Learning Rate:\",i,\"\\n\", k2)\n",
    "for i in learning_rate_list:\n",
    "    xor(i, x, y, num_epochs, w0, w1)"
   ]
  },
  {
   "cell_type": "markdown",
   "metadata": {},
   "source": [
    "## PLOTTING"
   ]
  },
  {
   "cell_type": "code",
   "execution_count": 6,
   "metadata": {},
   "outputs": [
    {
     "data": {
      "image/png": "[encoded data removed]",
      "text/plain": [
       "<matplotlib.figure.Figure at 0x7fa23f4dfc18>"
      ]
     },
     "metadata": {},
     "output_type": "display_data"
    }
   ],
   "source": [
    "\n",
    "# print(error_matrix)\n",
    "plt.plot(error_matrix1, label = 'Lrate = 0.001')\n",
    "plt.plot(error_matrix2, label = 'Lrate = 0.003')\n",
    "plt.plot(error_matrix3, label = 'Lrate = 0.006')\n",
    "plt.plot(error_matrix4, label = 'Lrate = 0.01')\n",
    "plt.xlabel('Epochs')\n",
    "plt.ylabel('Error')\n",
    "plt.legend()\n",
    "plt.title('XOR Function: Training Error  Vs. Epcohs')\n",
    "plt.show()"
   ]
  },
  {
   "cell_type": "markdown",
   "metadata": {},
   "source": [
    "## Desicion Function Output"
   ]
  },
  {
   "cell_type": "code",
   "execution_count": 7,
   "metadata": {},
   "outputs": [
    {
     "name": "stdout",
     "output_type": "stream",
     "text": [
      "Decision Function Output:\n",
      " [[0.02956949]\n",
      " [0.96783721]\n",
      " [0.97657291]\n",
      " [0.02972595]]\n"
     ]
    }
   ],
   "source": [
    "print(\"Decision Function Output:\\n\",k2)"
   ]
  },
  {
   "cell_type": "markdown",
   "metadata": {},
   "source": [
    "## Plottting Non-Linear Decision Boundary"
   ]
  },
  {
   "cell_type": "code",
   "execution_count": 9,
   "metadata": {},
   "outputs": [
    {
     "data": {
      "image/png": "[encoded data removed]",
      "text/plain": [
       "<matplotlib.figure.Figure at 0x7fa272e4ed68>"
      ]
     },
     "metadata": {},
     "output_type": "display_data"
    }
   ],
   "source": [
    "from sklearn import svm\n",
    "\n",
    "C = 1.0  # SVM regularization parameter\n",
    "clf = svm.SVC(kernel = 'rbf',  gamma=0.7, C=C )\n",
    "clf.fit(x, y.ravel())\n",
    "\n",
    "h = 0.02# step size in the mesh\n",
    "# create a mesh to plot in\n",
    "for i in range(len(y)):\n",
    "    if y[i] == 1:\n",
    "        plt.scatter(x[i, 0], x[i, 1], marker=u'x')\n",
    "    elif y[i] == 0:\n",
    "        plt.scatter(x[i, 0], x[i, 1], marker=u'o')\n",
    " \n",
    "xx, yy = np.mgrid[-2:3:100j, -2:3:100j]\n",
    "\n",
    "\n",
    "XXX = []\n",
    "for xs, ys in zip(xx, yy):\n",
    "    for x_, y_ in zip(xs, ys):\n",
    "        XXX.append([x_,y_,y_*x_])\n",
    "Z = clf.decision_function(XXX)\n",
    "\n",
    "# Plot the decision boundary. For that, we will assign a color to each\n",
    "# point in the mesh [x_min, m_max]x[y_min, y_max].\n",
    "# Z = clf.predict(np.c_[xx.ravel(), yy.ravel()])\n",
    "\n",
    "# Put the result into a color plot\n",
    "Z = Z.reshape(xx.shape)\n",
    "plt.contour(xx, yy, Z, cmap=plt.cm.Paired)\n",
    "plt.title(\"Decision Boundaries\")\n",
    "plt.show()"
   ]
  },
  {
   "cell_type": "markdown",
   "metadata": {},
   "source": [
    "# Bonus"
   ]
  },
  {
   "cell_type": "code",
   "execution_count": 161,
   "metadata": {},
   "outputs": [
    {
     "data": {
      "text/plain": [
       "((50, 3), (50, 1))"
      ]
     },
     "execution_count": 161,
     "metadata": {},
     "output_type": "execute_result"
    }
   ],
   "source": [
    "import operator\n",
    "from functools import reduce\n",
    "multiply = operator.mul\n",
    "inputB = np.random.uniform(low=-1, high=1, size=(50,2))\n",
    "\n",
    "inputB_padded = np.insert(inputB, 2, 1, axis=1)\n",
    "\n",
    "\n",
    "def sign(x):\n",
    "    if x > 0:\n",
    "        return 1.\n",
    "    elif x < 0:\n",
    "        return -1.\n",
    "    elif x == 0:\n",
    "        return 0.\n",
    "    else:\n",
    "        return x\n",
    "\n",
    "output_list = [reduce(multiply, a_list) for a_list in inputB]\n",
    "outputB = np.asarray(output_list)\n",
    "sign_xy_list= []\n",
    "for i in outputB:\n",
    "    signM = sign(i)\n",
    "    sign_xy_list.append(signM)\n",
    "sign_xy = np.asarray(sign_xy_list)\n",
    "sign_xy = sign_xy[:, np.newaxis]\n",
    "\n",
    "inputB_padded.shape, sign_xy.shape "
   ]
  },
  {
   "cell_type": "markdown",
   "metadata": {},
   "source": [
    "## Building Model"
   ]
  },
  {
   "cell_type": "code",
   "execution_count": 166,
   "metadata": {},
   "outputs": [
    {
     "data": {
      "text/plain": [
       "((3, 50), (50, 1))"
      ]
     },
     "execution_count": 166,
     "metadata": {},
     "output_type": "execute_result"
    }
   ],
   "source": [
    "#Number of epochs\n",
    "num_epochsB = 40000\n",
    "\n",
    "#initialize weights\n",
    "w0B = 2*np.random.random((3,len(inputB))) - 1\n",
    "w1B = 2*np.random.random((len(inputB),1)) - 1\n",
    "w0B.shape, w1B.shape"
   ]
  },
  {
   "cell_type": "code",
   "execution_count": 167,
   "metadata": {
    "scrolled": true
   },
   "outputs": [
    {
     "name": "stdout",
     "output_type": "stream",
     "text": [
      "Error:1.1123185578794368\n",
      "Error:0.7217794641395154\n",
      "Error:0.7080406492486075\n",
      "Error:0.7002671863102995\n",
      "Output for Learning Rate: 0.001 \n",
      " [[9.98429075e-01]\n",
      " [4.60823374e-03]\n",
      " [2.06976475e-09]\n",
      " [3.25171166e-05]\n",
      " [3.69505457e-03]\n",
      " [8.64182179e-02]\n",
      " [3.34021313e-08]\n",
      " [8.70028827e-06]\n",
      " [9.98636270e-01]\n",
      " [6.17932557e-02]\n",
      " [3.04352669e-05]\n",
      " [1.60687501e-05]\n",
      " [9.99881449e-01]\n",
      " [9.99986824e-01]\n",
      " [3.54316030e-09]\n",
      " [1.62276591e-03]\n",
      " [6.72485238e-10]\n",
      " [1.74416395e-10]\n",
      " [1.86722214e-09]\n",
      " [2.60761723e-05]\n",
      " [1.86442389e-04]\n",
      " [9.99998973e-01]\n",
      " [3.74365440e-07]\n",
      " [5.75876171e-02]\n",
      " [3.40874331e-05]\n",
      " [2.00625720e-06]\n",
      " [9.23443901e-01]\n",
      " [9.99994668e-01]\n",
      " [7.23484366e-06]\n",
      " [1.17572028e-01]\n",
      " [9.99977372e-01]\n",
      " [2.89634920e-02]\n",
      " [7.24566248e-04]\n",
      " [3.00665803e-08]\n",
      " [9.99986955e-01]\n",
      " [4.17963344e-10]\n",
      " [9.99984753e-01]\n",
      " [1.24745270e-03]\n",
      " [4.01415034e-08]\n",
      " [1.17086887e-04]\n",
      " [7.26240661e-09]\n",
      " [5.91757221e-01]\n",
      " [9.65768205e-01]\n",
      " [8.02496702e-05]\n",
      " [9.96070891e-01]\n",
      " [5.97400792e-01]\n",
      " [9.99803566e-01]\n",
      " [9.99988148e-01]\n",
      " [5.75716594e-08]\n",
      " [6.93295877e-09]]\n",
      "Error:0.69497787275941\n",
      "Error:0.6870273992126497\n",
      "Error:0.6836834702316807\n",
      "Error:0.681585957430281\n",
      "Output for Learning Rate: 0.003 \n",
      " [[9.99987445e-01]\n",
      " [6.23907372e-05]\n",
      " [2.93078281e-12]\n",
      " [1.00237447e-07]\n",
      " [3.10353637e-04]\n",
      " [1.73336590e-01]\n",
      " [8.36707751e-12]\n",
      " [1.43455753e-07]\n",
      " [9.99979431e-01]\n",
      " [1.34640169e-02]\n",
      " [7.32826704e-07]\n",
      " [1.67110391e-07]\n",
      " [9.99999381e-01]\n",
      " [9.99999978e-01]\n",
      " [2.63043301e-13]\n",
      " [1.73824047e-05]\n",
      " [4.47897516e-13]\n",
      " [4.67617489e-14]\n",
      " [2.10621189e-12]\n",
      " [1.36985023e-07]\n",
      " [2.47485781e-06]\n",
      " [9.99999999e-01]\n",
      " [3.63509160e-10]\n",
      " [3.65873842e-02]\n",
      " [2.67185160e-07]\n",
      " [2.13360772e-08]\n",
      " [9.90329296e-01]\n",
      " [9.99999992e-01]\n",
      " [6.78653858e-08]\n",
      " [8.00633601e-02]\n",
      " [9.99999957e-01]\n",
      " [1.74573903e-04]\n",
      " [2.27904769e-05]\n",
      " [7.38636399e-11]\n",
      " [9.99999975e-01]\n",
      " [2.27694111e-14]\n",
      " [9.99999927e-01]\n",
      " [5.34108586e-05]\n",
      " [8.80366263e-12]\n",
      " [1.42287039e-06]\n",
      " [1.82481991e-12]\n",
      " [9.18842138e-01]\n",
      " [9.96462548e-01]\n",
      " [2.77727637e-06]\n",
      " [9.99937204e-01]\n",
      " [9.28731246e-01]\n",
      " [9.99993612e-01]\n",
      " [9.99999940e-01]\n",
      " [2.30367772e-11]\n",
      " [1.76819189e-12]]\n",
      "Error:0.6792917266544474\n",
      "Error:0.6695280336362411\n",
      "Error:0.6639299801283098\n",
      "Error:0.6622004367564958\n",
      "Output for Learning Rate: 0.006 \n",
      " [[9.99999071e-01]\n",
      " [6.05021563e-08]\n",
      " [8.30581824e-13]\n",
      " [3.79340875e-10]\n",
      " [4.91770369e-05]\n",
      " [8.48911716e-01]\n",
      " [9.03617055e-12]\n",
      " [2.51339707e-07]\n",
      " [9.99967960e-01]\n",
      " [7.74504378e-04]\n",
      " [4.96097485e-07]\n",
      " [2.81029661e-07]\n",
      " [9.99999733e-01]\n",
      " [9.99999999e-01]\n",
      " [6.65812728e-14]\n",
      " [2.70332095e-08]\n",
      " [1.78247838e-13]\n",
      " [1.17644778e-14]\n",
      " [7.72500569e-13]\n",
      " [7.31291627e-08]\n",
      " [8.13191834e-07]\n",
      " [1.00000000e+00]\n",
      " [1.22621356e-10]\n",
      " [1.11659506e-02]\n",
      " [2.53061793e-07]\n",
      " [1.51658136e-07]\n",
      " [9.46146184e-01]\n",
      " [1.00000000e+00]\n",
      " [2.60861330e-07]\n",
      " [1.18088580e-02]\n",
      " [9.99999999e-01]\n",
      " [1.74685045e-08]\n",
      " [1.06717269e-05]\n",
      " [5.24883016e-12]\n",
      " [9.99999999e-01]\n",
      " [4.57134514e-16]\n",
      " [9.99999828e-01]\n",
      " [2.41455067e-05]\n",
      " [1.84828617e-12]\n",
      " [3.81665111e-07]\n",
      " [7.52724504e-12]\n",
      " [9.94348731e-01]\n",
      " [9.61433622e-01]\n",
      " [1.66968730e-06]\n",
      " [9.99975668e-01]\n",
      " [9.96668873e-01]\n",
      " [9.99446665e-01]\n",
      " [9.99999796e-01]\n",
      " [4.51190793e-11]\n",
      " [7.71357251e-12]]\n",
      "Error:0.6615038992129602\n",
      "Error:0.6609673022720151\n",
      "Error:0.6606999587774365\n",
      "Error:0.6605414268723371\n",
      "Output for Learning Rate: 0.01 \n",
      " [[9.99999946e-01]\n",
      " [3.73098639e-09]\n",
      " [3.92059122e-14]\n",
      " [2.28451709e-11]\n",
      " [7.17647604e-06]\n",
      " [9.25765670e-01]\n",
      " [7.55126527e-13]\n",
      " [4.82935349e-08]\n",
      " [9.99996523e-01]\n",
      " [1.72460135e-04]\n",
      " [8.08444863e-08]\n",
      " [3.10891866e-08]\n",
      " [9.99999989e-01]\n",
      " [1.00000000e+00]\n",
      " [3.85297083e-15]\n",
      " [1.65851900e-09]\n",
      " [4.72061034e-15]\n",
      " [1.16868666e-16]\n",
      " [3.15085991e-14]\n",
      " [7.17916277e-09]\n",
      " [9.22655216e-08]\n",
      " [1.00000000e+00]\n",
      " [5.18460083e-12]\n",
      " [3.92731703e-03]\n",
      " [2.88850355e-08]\n",
      " [1.68647860e-08]\n",
      " [9.62873016e-01]\n",
      " [1.00000000e+00]\n",
      " [3.84772874e-08]\n",
      " [3.02876116e-03]\n",
      " [1.00000000e+00]\n",
      " [1.13407418e-09]\n",
      " [1.73433924e-06]\n",
      " [3.16361390e-13]\n",
      " [1.00000000e+00]\n",
      " [2.56931827e-18]\n",
      " [9.99999994e-01]\n",
      " [4.38617387e-06]\n",
      " [8.75408379e-14]\n",
      " [3.61346091e-08]\n",
      " [7.51585162e-13]\n",
      " [9.97957273e-01]\n",
      " [9.73981978e-01]\n",
      " [2.90930896e-07]\n",
      " [9.99997589e-01]\n",
      " [9.99009806e-01]\n",
      " [9.99840917e-01]\n",
      " [9.99999993e-01]\n",
      " [4.07474821e-12]\n",
      " [7.73083906e-13]]\n"
     ]
    }
   ],
   "source": [
    "# learning_rate_list = [0.001,0.003,0.006,0.01]\n",
    "\n",
    "error_matrix1B = []\n",
    "error_matrix2B = []\n",
    "error_matrix3B = []\n",
    "error_matrix4B = []\n",
    "    \n",
    "# def xor(learning_rate, x, y, num_epochs, w0, w1):\n",
    "for o in learning_rate_list:\n",
    "    for p in range(num_epochsB):\n",
    "        #feed forward through layers 0,1, and 2\n",
    "        k0B = inputB_padded\n",
    "        k1B = sig(np.dot(k0B, w0B))\n",
    "        k2B = sig(np.dot(k1B, w1B))\n",
    "\n",
    "        #how much did we miss the target value?\n",
    "        k2_errorB = (sign_xy - k2B)\n",
    "\n",
    "        if o == 0.001:\n",
    "            error_matrix1B.append(np.mean(np.square(k2_errorB)))\n",
    "        elif o == 0.003:\n",
    "            error_matrix2B.append(np.mean(np.square(k2_errorB)))\n",
    "        elif o == 0.006:\n",
    "            error_matrix3B.append(np.mean(np.square(k2_errorB)))        \n",
    "        elif o == 0.01:\n",
    "            error_matrix4B.append(np.mean(np.square(k2_errorB)))\n",
    "\n",
    "\n",
    "        if (p% 10000) == 0:\n",
    "            print (\"Error:\" + str(np.mean(np.square(k2_errorB))))\n",
    "\n",
    "        #in what direction is the target value?\n",
    "        k2_deltaB = k2_errorB*sig(k2B, deriv=True)\n",
    "\n",
    "        #how much did each k1 value contribute to k2 error\n",
    "        k1_errorB = k2_deltaB.dot(w1B.T)\n",
    "\n",
    "        k1_deltaB= k1_errorB * sig(k1B,deriv=True)\n",
    "\n",
    "        if j >= num_epochsB-1:\n",
    "            w0B = 2*np.random.random((3,len(inputB))) - 1\n",
    "            w1B = 2*np.random.random((len(inputB),1)) - 1\n",
    "\n",
    "        else:\n",
    "            w1B += o*(k1B.T.dot(k2_deltaB))\n",
    "            w0B += o*(k0B.T.dot(k1_deltaB))\n",
    "\n",
    "    print(\"Output for Learning Rate:\",o,\"\\n\", k2B)"
   ]
  },
  {
   "cell_type": "markdown",
   "metadata": {},
   "source": [
    "## PLOTTING"
   ]
  },
  {
   "cell_type": "code",
   "execution_count": 168,
   "metadata": {},
   "outputs": [
    {
     "data": {
      "image/png": "[encoded data removed]",
      "text/plain": [
       "<matplotlib.figure.Figure at 0x7fa2278e8e80>"
      ]
     },
     "metadata": {},
     "output_type": "display_data"
    }
   ],
   "source": [
    "\n",
    "# print(error_matrix)\n",
    "plt.plot(error_matrix1B, label = 'Lrate = 0.001')\n",
    "plt.plot(error_matrix2B, label = 'Lrate = 0.003')\n",
    "plt.plot(error_matrix3B, label = 'Lrate = 0.006')\n",
    "plt.plot(error_matrix4B, label = 'Lrate = 0.01')\n",
    "plt.xlabel('Epochs')\n",
    "plt.ylabel('Error')\n",
    "plt.legend()\n",
    "plt.title('XOR Function: Training Error  Vs. Epcohs')\n",
    "plt.show()"
   ]
  },
  {
   "cell_type": "markdown",
   "metadata": {},
   "source": [
    "# 2D surface"
   ]
  },
  {
   "cell_type": "code",
   "execution_count": 186,
   "metadata": {},
   "outputs": [
    {
     "data": {
      "image/png": "[encoded data removed]",
      "text/plain": [
       "<matplotlib.figure.Figure at 0x7fa2277c1828>"
      ]
     },
     "metadata": {},
     "output_type": "display_data"
    }
   ],
   "source": [
    "from sklearn import svm\n",
    "\n",
    "CB = 1.0  # SVM regularization parameter\n",
    "clfB = svm.SVC(kernel = 'rbf',  gamma=0.7, C=CB )\n",
    "clfB.fit(inputB_padded, sign_xy.ravel())\n",
    "\n",
    "hB = 0.02# step size in the mesh\n",
    "# create a mesh to plot in\n",
    "for l in range(len(sign_xy)):\n",
    "    if sign_xy[l] == 1:\n",
    "        plt.scatter(inputB_padded[l, 0], inputB_padded[l, 1], marker=u'x')\n",
    "    elif sign_xy[l] == 0:\n",
    "        plt.scatter(inputB_padded[l, 0], inputB_padded[l, 1], marker=u'o')\n",
    " \n",
    "xb, yb = np.mgrid[-3:4:100j, -3:4:100j]\n",
    "\n",
    "\n",
    "XXXB = []\n",
    "for xsB, ysB in zip(xb, yb):\n",
    "    for x_b, y_b in zip(xsB, ysB):\n",
    "        XXXB.append([x_b,y_b,y_b*x_b])\n",
    "ZB = clfB.decision_function(XXXB)\n",
    "\n",
    "# Put the result into a color plot\n",
    "ZB = ZB.reshape(xb.shape)\n",
    "plt.contour(xb, yb, ZB, cmap=plt.cm.Paired)\n",
    "plt.title(\"Decision Boundaries\")\n",
    "plt.show()"
   ]
  },
  {
   "cell_type": "code",
   "execution_count": null,
   "metadata": {
    "collapsed": true
   },
   "outputs": [],
   "source": []
  },
  {
   "cell_type": "code",
   "execution_count": null,
   "metadata": {
    "collapsed": true
   },
   "outputs": [],
   "source": []
  }
 ],
 "metadata": {
  "kernelspec": {
   "display_name": "Python 3",
   "language": "python",
   "name": "python3"
  },
  "language_info": {
   "codemirror_mode": {
    "name": "ipython",
    "version": 3
   },
   "file_extension": ".py",
   "mimetype": "text/x-python",
   "name": "python",
   "nbconvert_exporter": "python",
   "pygments_lexer": "ipython3",
   "version": "3.6.3"
  }
 },
 "nbformat": 4,
 "nbformat_minor": 2
}
